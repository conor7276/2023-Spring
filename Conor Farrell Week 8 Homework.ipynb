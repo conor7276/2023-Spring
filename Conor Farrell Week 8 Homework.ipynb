{
 "cells": [
  {
   "cell_type": "code",
   "execution_count": 1,
   "id": "00eb3640",
   "metadata": {},
   "outputs": [],
   "source": [
    "import pandas as pd\n",
    "import numpy as np\n",
    "import matplotlib as plt\n",
    "import seaborn as sns"
   ]
  },
  {
   "cell_type": "code",
   "execution_count": 13,
   "id": "594ffc27",
   "metadata": {},
   "outputs": [],
   "source": [
    "df = pd.read_csv('Data Visualization Exercise Data - Budget-Sample .csv')"
   ]
  },
  {
   "cell_type": "code",
   "execution_count": 14,
   "id": "5233f97a",
   "metadata": {},
   "outputs": [
    {
     "data": {
      "text/html": [
       "<div>\n",
       "<style scoped>\n",
       "    .dataframe tbody tr th:only-of-type {\n",
       "        vertical-align: middle;\n",
       "    }\n",
       "\n",
       "    .dataframe tbody tr th {\n",
       "        vertical-align: top;\n",
       "    }\n",
       "\n",
       "    .dataframe thead th {\n",
       "        text-align: right;\n",
       "    }\n",
       "</style>\n",
       "<table border=\"1\" class=\"dataframe\">\n",
       "  <thead>\n",
       "    <tr style=\"text-align: right;\">\n",
       "      <th></th>\n",
       "      <th>fiscal_year</th>\n",
       "      <th>payroll_number</th>\n",
       "      <th>agency_name</th>\n",
       "      <th>last_name</th>\n",
       "      <th>first_name</th>\n",
       "      <th>mid_init</th>\n",
       "      <th>agency_start_date</th>\n",
       "      <th>work_location_borough</th>\n",
       "      <th>title_description</th>\n",
       "      <th>leave_status_as_of_june_30</th>\n",
       "      <th>base_salary</th>\n",
       "      <th>pay_basis</th>\n",
       "      <th>regular_hours</th>\n",
       "      <th>regular_gross_paid</th>\n",
       "      <th>ot_hours</th>\n",
       "      <th>total_ot_paid</th>\n",
       "      <th>total_other_pay</th>\n",
       "    </tr>\n",
       "  </thead>\n",
       "  <tbody>\n",
       "    <tr>\n",
       "      <th>0</th>\n",
       "      <td>2020</td>\n",
       "      <td>826</td>\n",
       "      <td>DEPT OF ENVIRONMENT PROTECTION</td>\n",
       "      <td>BROWN</td>\n",
       "      <td>TRACYANN</td>\n",
       "      <td>NaN</td>\n",
       "      <td>02/23/2004</td>\n",
       "      <td>QUEENS</td>\n",
       "      <td>COMMUNITY ASSISTANT</td>\n",
       "      <td>ACTIVE</td>\n",
       "      <td>37816.0</td>\n",
       "      <td>per Annum</td>\n",
       "      <td>2080.0</td>\n",
       "      <td>37235.48</td>\n",
       "      <td>11.00</td>\n",
       "      <td>206.04</td>\n",
       "      <td>1309.56</td>\n",
       "    </tr>\n",
       "    <tr>\n",
       "      <th>1</th>\n",
       "      <td>2020</td>\n",
       "      <td>56</td>\n",
       "      <td>POLICE DEPARTMENT</td>\n",
       "      <td>WONG</td>\n",
       "      <td>CHIWAI</td>\n",
       "      <td>NaN</td>\n",
       "      <td>07/08/2015</td>\n",
       "      <td>BROOKLYN</td>\n",
       "      <td>POLICE OFFICER</td>\n",
       "      <td>ACTIVE</td>\n",
       "      <td>63125.0</td>\n",
       "      <td>per Annum</td>\n",
       "      <td>2080.0</td>\n",
       "      <td>60758.85</td>\n",
       "      <td>343.13</td>\n",
       "      <td>10842.71</td>\n",
       "      <td>10325.31</td>\n",
       "    </tr>\n",
       "    <tr>\n",
       "      <th>2</th>\n",
       "      <td>2020</td>\n",
       "      <td>742</td>\n",
       "      <td>DEPT OF ED PEDAGOGICAL</td>\n",
       "      <td>FARRELL</td>\n",
       "      <td>TARA</td>\n",
       "      <td>E</td>\n",
       "      <td>09/09/1996</td>\n",
       "      <td>MANHATTAN</td>\n",
       "      <td>TEACHER SPECIAL EDUCATION</td>\n",
       "      <td>ACTIVE</td>\n",
       "      <td>121226.0</td>\n",
       "      <td>per Annum</td>\n",
       "      <td>0.0</td>\n",
       "      <td>118638.72</td>\n",
       "      <td>0.00</td>\n",
       "      <td>0.00</td>\n",
       "      <td>13069.69</td>\n",
       "    </tr>\n",
       "    <tr>\n",
       "      <th>3</th>\n",
       "      <td>2020</td>\n",
       "      <td>827</td>\n",
       "      <td>DEPARTMENT OF SANITATION</td>\n",
       "      <td>ATTANASIO</td>\n",
       "      <td>JOSEPH</td>\n",
       "      <td>NaN</td>\n",
       "      <td>10/18/1999</td>\n",
       "      <td>QUEENS</td>\n",
       "      <td>SANITATION WORKER</td>\n",
       "      <td>ACTIVE</td>\n",
       "      <td>77318.0</td>\n",
       "      <td>per Annum</td>\n",
       "      <td>2080.0</td>\n",
       "      <td>75833.83</td>\n",
       "      <td>455.50</td>\n",
       "      <td>28225.89</td>\n",
       "      <td>17602.11</td>\n",
       "    </tr>\n",
       "    <tr>\n",
       "      <th>4</th>\n",
       "      <td>2020</td>\n",
       "      <td>744</td>\n",
       "      <td>DEPT OF ED PARA PROFESSIONALS</td>\n",
       "      <td>MCNEIL</td>\n",
       "      <td>GLORIA</td>\n",
       "      <td>D</td>\n",
       "      <td>09/28/1989</td>\n",
       "      <td>MANHATTAN</td>\n",
       "      <td>ANNUAL ED PARA</td>\n",
       "      <td>ACTIVE</td>\n",
       "      <td>46333.0</td>\n",
       "      <td>per Annum</td>\n",
       "      <td>0.0</td>\n",
       "      <td>45344.28</td>\n",
       "      <td>0.00</td>\n",
       "      <td>0.00</td>\n",
       "      <td>5076.22</td>\n",
       "    </tr>\n",
       "  </tbody>\n",
       "</table>\n",
       "</div>"
      ],
      "text/plain": [
       "   fiscal_year  payroll_number                     agency_name  last_name  \\\n",
       "0         2020             826  DEPT OF ENVIRONMENT PROTECTION      BROWN   \n",
       "1         2020              56               POLICE DEPARTMENT       WONG   \n",
       "2         2020             742          DEPT OF ED PEDAGOGICAL    FARRELL   \n",
       "3         2020             827        DEPARTMENT OF SANITATION  ATTANASIO   \n",
       "4         2020             744   DEPT OF ED PARA PROFESSIONALS     MCNEIL   \n",
       "\n",
       "  first_name mid_init agency_start_date work_location_borough  \\\n",
       "0   TRACYANN      NaN        02/23/2004                QUEENS   \n",
       "1     CHIWAI      NaN        07/08/2015              BROOKLYN   \n",
       "2       TARA        E        09/09/1996             MANHATTAN   \n",
       "3     JOSEPH      NaN        10/18/1999                QUEENS   \n",
       "4     GLORIA        D        09/28/1989             MANHATTAN   \n",
       "\n",
       "           title_description leave_status_as_of_june_30  base_salary  \\\n",
       "0        COMMUNITY ASSISTANT                     ACTIVE      37816.0   \n",
       "1             POLICE OFFICER                     ACTIVE      63125.0   \n",
       "2  TEACHER SPECIAL EDUCATION                     ACTIVE     121226.0   \n",
       "3          SANITATION WORKER                     ACTIVE      77318.0   \n",
       "4             ANNUAL ED PARA                     ACTIVE      46333.0   \n",
       "\n",
       "   pay_basis  regular_hours  regular_gross_paid  ot_hours  total_ot_paid  \\\n",
       "0  per Annum         2080.0            37235.48     11.00         206.04   \n",
       "1  per Annum         2080.0            60758.85    343.13       10842.71   \n",
       "2  per Annum            0.0           118638.72      0.00           0.00   \n",
       "3  per Annum         2080.0            75833.83    455.50       28225.89   \n",
       "4  per Annum            0.0            45344.28      0.00           0.00   \n",
       "\n",
       "   total_other_pay  \n",
       "0          1309.56  \n",
       "1         10325.31  \n",
       "2         13069.69  \n",
       "3         17602.11  \n",
       "4          5076.22  "
      ]
     },
     "execution_count": 14,
     "metadata": {},
     "output_type": "execute_result"
    }
   ],
   "source": [
    "df.head()"
   ]
  },
  {
   "cell_type": "code",
   "execution_count": 15,
   "id": "0f74d70e",
   "metadata": {},
   "outputs": [
    {
     "data": {
      "text/html": [
       "<div>\n",
       "<style scoped>\n",
       "    .dataframe tbody tr th:only-of-type {\n",
       "        vertical-align: middle;\n",
       "    }\n",
       "\n",
       "    .dataframe tbody tr th {\n",
       "        vertical-align: top;\n",
       "    }\n",
       "\n",
       "    .dataframe thead th {\n",
       "        text-align: right;\n",
       "    }\n",
       "</style>\n",
       "<table border=\"1\" class=\"dataframe\">\n",
       "  <thead>\n",
       "    <tr style=\"text-align: right;\">\n",
       "      <th></th>\n",
       "      <th>work_location_borough</th>\n",
       "      <th>base_salary</th>\n",
       "    </tr>\n",
       "  </thead>\n",
       "  <tbody>\n",
       "    <tr>\n",
       "      <th>0</th>\n",
       "      <td>QUEENS</td>\n",
       "      <td>37816.0</td>\n",
       "    </tr>\n",
       "    <tr>\n",
       "      <th>1</th>\n",
       "      <td>BROOKLYN</td>\n",
       "      <td>63125.0</td>\n",
       "    </tr>\n",
       "    <tr>\n",
       "      <th>2</th>\n",
       "      <td>MANHATTAN</td>\n",
       "      <td>121226.0</td>\n",
       "    </tr>\n",
       "    <tr>\n",
       "      <th>3</th>\n",
       "      <td>QUEENS</td>\n",
       "      <td>77318.0</td>\n",
       "    </tr>\n",
       "    <tr>\n",
       "      <th>4</th>\n",
       "      <td>MANHATTAN</td>\n",
       "      <td>46333.0</td>\n",
       "    </tr>\n",
       "  </tbody>\n",
       "</table>\n",
       "</div>"
      ],
      "text/plain": [
       "  work_location_borough  base_salary\n",
       "0                QUEENS      37816.0\n",
       "1              BROOKLYN      63125.0\n",
       "2             MANHATTAN     121226.0\n",
       "3                QUEENS      77318.0\n",
       "4             MANHATTAN      46333.0"
      ]
     },
     "execution_count": 15,
     "metadata": {},
     "output_type": "execute_result"
    }
   ],
   "source": [
    "df_q1 = df[['work_location_borough', 'base_salary']] \n",
    "df_q1.head()"
   ]
  },
  {
   "cell_type": "code",
   "execution_count": 16,
   "id": "2e45183a",
   "metadata": {},
   "outputs": [
    {
     "data": {
      "text/plain": [
       "<AxesSubplot:xlabel='base_salary', ylabel='Count'>"
      ]
     },
     "execution_count": 16,
     "metadata": {},
     "output_type": "execute_result"
    },
    {
     "data": {
      "image/png": "[encoded data removed]",
      "text/plain": [
       "<Figure size 432x288 with 1 Axes>"
      ]
     },
     "metadata": {
      "needs_background": "light"
     },
     "output_type": "display_data"
    }
   ],
   "source": [
    "sns.histplot(data=df['base_salary'], x = df['base_salary'])\n",
    "#Average base salary is around 50,000 to 100,000 dollars"
   ]
  },
  {
   "cell_type": "code",
   "execution_count": 17,
   "id": "cb8633e7",
   "metadata": {},
   "outputs": [],
   "source": [
    "df1_q1b = df[['agency_name','base_salary']]\n",
    "df1_q1b = df1_q1b.head(50)\n",
    "df1 = df1_q1b.sort_values(by='base_salary', ascending = False)\n",
    "df1_q1b = df1_q1b.groupby(['agency_name'])"
   ]
  },
  {
   "cell_type": "code",
   "execution_count": 18,
   "id": "11310e40",
   "metadata": {
    "scrolled": true
   },
   "outputs": [
    {
     "data": {
      "text/html": [
       "<div>\n",
       "<style scoped>\n",
       "    .dataframe tbody tr th:only-of-type {\n",
       "        vertical-align: middle;\n",
       "    }\n",
       "\n",
       "    .dataframe tbody tr th {\n",
       "        vertical-align: top;\n",
       "    }\n",
       "\n",
       "    .dataframe thead th {\n",
       "        text-align: right;\n",
       "    }\n",
       "</style>\n",
       "<table border=\"1\" class=\"dataframe\">\n",
       "  <thead>\n",
       "    <tr style=\"text-align: right;\">\n",
       "      <th></th>\n",
       "      <th>agency_name</th>\n",
       "      <th>base_salary</th>\n",
       "    </tr>\n",
       "  </thead>\n",
       "  <tbody>\n",
       "    <tr>\n",
       "      <th>0</th>\n",
       "      <td>DEPT OF ENVIRONMENT PROTECTION</td>\n",
       "      <td>37816.0</td>\n",
       "    </tr>\n",
       "    <tr>\n",
       "      <th>1</th>\n",
       "      <td>POLICE DEPARTMENT</td>\n",
       "      <td>63125.0</td>\n",
       "    </tr>\n",
       "    <tr>\n",
       "      <th>2</th>\n",
       "      <td>DEPT OF ED PEDAGOGICAL</td>\n",
       "      <td>121226.0</td>\n",
       "    </tr>\n",
       "    <tr>\n",
       "      <th>3</th>\n",
       "      <td>DEPARTMENT OF SANITATION</td>\n",
       "      <td>77318.0</td>\n",
       "    </tr>\n",
       "    <tr>\n",
       "      <th>4</th>\n",
       "      <td>DEPT OF ED PARA PROFESSIONALS</td>\n",
       "      <td>46333.0</td>\n",
       "    </tr>\n",
       "    <tr>\n",
       "      <th>5</th>\n",
       "      <td>POLICE DEPARTMENT</td>\n",
       "      <td>97324.0</td>\n",
       "    </tr>\n",
       "    <tr>\n",
       "      <th>6</th>\n",
       "      <td>FIRE DEPARTMENT</td>\n",
       "      <td>163454.0</td>\n",
       "    </tr>\n",
       "    <tr>\n",
       "      <th>7</th>\n",
       "      <td>DEPT OF ED PEDAGOGICAL</td>\n",
       "      <td>123291.0</td>\n",
       "    </tr>\n",
       "    <tr>\n",
       "      <th>8</th>\n",
       "      <td>OFFICE OF THE COMPTROLLER</td>\n",
       "      <td>117950.0</td>\n",
       "    </tr>\n",
       "    <tr>\n",
       "      <th>9</th>\n",
       "      <td>DEPT OF ED PEDAGOGICAL</td>\n",
       "      <td>86023.0</td>\n",
       "    </tr>\n",
       "    <tr>\n",
       "      <th>10</th>\n",
       "      <td>DEPT OF ED PEDAGOGICAL</td>\n",
       "      <td>91128.0</td>\n",
       "    </tr>\n",
       "    <tr>\n",
       "      <th>11</th>\n",
       "      <td>COMMUNITY COLLEGE (MANHATTAN)</td>\n",
       "      <td>71983.0</td>\n",
       "    </tr>\n",
       "    <tr>\n",
       "      <th>12</th>\n",
       "      <td>DEPARTMENT OF SANITATION</td>\n",
       "      <td>50173.0</td>\n",
       "    </tr>\n",
       "    <tr>\n",
       "      <th>13</th>\n",
       "      <td>DEPT OF ED PEDAGOGICAL</td>\n",
       "      <td>98486.0</td>\n",
       "    </tr>\n",
       "    <tr>\n",
       "      <th>14</th>\n",
       "      <td>FIRE DEPARTMENT</td>\n",
       "      <td>134594.0</td>\n",
       "    </tr>\n",
       "    <tr>\n",
       "      <th>15</th>\n",
       "      <td>POLICE DEPARTMENT</td>\n",
       "      <td>109360.0</td>\n",
       "    </tr>\n",
       "    <tr>\n",
       "      <th>16</th>\n",
       "      <td>HRA/DEPT OF SOCIAL SERVICES</td>\n",
       "      <td>58741.0</td>\n",
       "    </tr>\n",
       "    <tr>\n",
       "      <th>17</th>\n",
       "      <td>FIRE DEPARTMENT</td>\n",
       "      <td>50173.0</td>\n",
       "    </tr>\n",
       "    <tr>\n",
       "      <th>18</th>\n",
       "      <td>HRA/DEPT OF SOCIAL SERVICES</td>\n",
       "      <td>46882.0</td>\n",
       "    </tr>\n",
       "    <tr>\n",
       "      <th>19</th>\n",
       "      <td>FIRE DEPARTMENT</td>\n",
       "      <td>60837.0</td>\n",
       "    </tr>\n",
       "    <tr>\n",
       "      <th>20</th>\n",
       "      <td>LAW DEPARTMENT</td>\n",
       "      <td>49677.0</td>\n",
       "    </tr>\n",
       "    <tr>\n",
       "      <th>22</th>\n",
       "      <td>POLICE DEPARTMENT</td>\n",
       "      <td>85292.0</td>\n",
       "    </tr>\n",
       "    <tr>\n",
       "      <th>24</th>\n",
       "      <td>DEPT OF INFO TECH &amp; TELECOMM</td>\n",
       "      <td>87763.0</td>\n",
       "    </tr>\n",
       "    <tr>\n",
       "      <th>25</th>\n",
       "      <td>ADMIN FOR CHILDREN'S SVCS</td>\n",
       "      <td>60327.0</td>\n",
       "    </tr>\n",
       "    <tr>\n",
       "      <th>26</th>\n",
       "      <td>DEPT OF ED PARA PROFESSIONALS</td>\n",
       "      <td>30996.0</td>\n",
       "    </tr>\n",
       "    <tr>\n",
       "      <th>28</th>\n",
       "      <td>HOUSING PRESERVATION &amp; DVLPMNT</td>\n",
       "      <td>87414.0</td>\n",
       "    </tr>\n",
       "    <tr>\n",
       "      <th>30</th>\n",
       "      <td>DEPT OF ED PARA PROFESSIONALS</td>\n",
       "      <td>44975.0</td>\n",
       "    </tr>\n",
       "    <tr>\n",
       "      <th>31</th>\n",
       "      <td>DISTRICT ATTORNEY-MANHATTAN</td>\n",
       "      <td>76000.0</td>\n",
       "    </tr>\n",
       "    <tr>\n",
       "      <th>32</th>\n",
       "      <td>DEPT OF ED PARA PROFESSIONALS</td>\n",
       "      <td>33401.0</td>\n",
       "    </tr>\n",
       "    <tr>\n",
       "      <th>33</th>\n",
       "      <td>HRA/DEPT OF SOCIAL SERVICES</td>\n",
       "      <td>43410.0</td>\n",
       "    </tr>\n",
       "    <tr>\n",
       "      <th>34</th>\n",
       "      <td>HRA/DEPT OF SOCIAL SERVICES</td>\n",
       "      <td>43750.0</td>\n",
       "    </tr>\n",
       "    <tr>\n",
       "      <th>35</th>\n",
       "      <td>NYC HOUSING AUTHORITY</td>\n",
       "      <td>58942.0</td>\n",
       "    </tr>\n",
       "    <tr>\n",
       "      <th>36</th>\n",
       "      <td>DEPT OF ENVIRONMENT PROTECTION</td>\n",
       "      <td>48468.0</td>\n",
       "    </tr>\n",
       "    <tr>\n",
       "      <th>37</th>\n",
       "      <td>POLICE DEPARTMENT</td>\n",
       "      <td>34834.0</td>\n",
       "    </tr>\n",
       "    <tr>\n",
       "      <th>38</th>\n",
       "      <td>DEPT OF ED PARA PROFESSIONALS</td>\n",
       "      <td>33401.0</td>\n",
       "    </tr>\n",
       "    <tr>\n",
       "      <th>42</th>\n",
       "      <td>DEPARTMENT OF EDUCATION ADMIN</td>\n",
       "      <td>62055.0</td>\n",
       "    </tr>\n",
       "  </tbody>\n",
       "</table>\n",
       "</div>"
      ],
      "text/plain": [
       "                       agency_name  base_salary\n",
       "0   DEPT OF ENVIRONMENT PROTECTION      37816.0\n",
       "1                POLICE DEPARTMENT      63125.0\n",
       "2           DEPT OF ED PEDAGOGICAL     121226.0\n",
       "3         DEPARTMENT OF SANITATION      77318.0\n",
       "4    DEPT OF ED PARA PROFESSIONALS      46333.0\n",
       "5                POLICE DEPARTMENT      97324.0\n",
       "6                  FIRE DEPARTMENT     163454.0\n",
       "7           DEPT OF ED PEDAGOGICAL     123291.0\n",
       "8        OFFICE OF THE COMPTROLLER     117950.0\n",
       "9           DEPT OF ED PEDAGOGICAL      86023.0\n",
       "10          DEPT OF ED PEDAGOGICAL      91128.0\n",
       "11   COMMUNITY COLLEGE (MANHATTAN)      71983.0\n",
       "12        DEPARTMENT OF SANITATION      50173.0\n",
       "13          DEPT OF ED PEDAGOGICAL      98486.0\n",
       "14                 FIRE DEPARTMENT     134594.0\n",
       "15               POLICE DEPARTMENT     109360.0\n",
       "16     HRA/DEPT OF SOCIAL SERVICES      58741.0\n",
       "17                 FIRE DEPARTMENT      50173.0\n",
       "18     HRA/DEPT OF SOCIAL SERVICES      46882.0\n",
       "19                 FIRE DEPARTMENT      60837.0\n",
       "20                  LAW DEPARTMENT      49677.0\n",
       "22               POLICE DEPARTMENT      85292.0\n",
       "24    DEPT OF INFO TECH & TELECOMM      87763.0\n",
       "25       ADMIN FOR CHILDREN'S SVCS      60327.0\n",
       "26   DEPT OF ED PARA PROFESSIONALS      30996.0\n",
       "28  HOUSING PRESERVATION & DVLPMNT      87414.0\n",
       "30   DEPT OF ED PARA PROFESSIONALS      44975.0\n",
       "31     DISTRICT ATTORNEY-MANHATTAN      76000.0\n",
       "32   DEPT OF ED PARA PROFESSIONALS      33401.0\n",
       "33     HRA/DEPT OF SOCIAL SERVICES      43410.0\n",
       "34     HRA/DEPT OF SOCIAL SERVICES      43750.0\n",
       "35           NYC HOUSING AUTHORITY      58942.0\n",
       "36  DEPT OF ENVIRONMENT PROTECTION      48468.0\n",
       "37               POLICE DEPARTMENT      34834.0\n",
       "38   DEPT OF ED PARA PROFESSIONALS      33401.0\n",
       "42   DEPARTMENT OF EDUCATION ADMIN      62055.0"
      ]
     },
     "execution_count": 18,
     "metadata": {},
     "output_type": "execute_result"
    }
   ],
   "source": [
    "df1_q1b.head()"
   ]
  },
  {
   "cell_type": "code",
   "execution_count": 19,
   "id": "597a7064",
   "metadata": {},
   "outputs": [],
   "source": [
    "df1_q1b = df1_q1b.mean()\n",
    "df1_q1b = df1_q1b.sort_values(by='base_salary', ascending = True)"
   ]
  },
  {
   "cell_type": "code",
   "execution_count": 20,
   "id": "7360592b",
   "metadata": {},
   "outputs": [
    {
     "data": {
      "text/html": [
       "<div>\n",
       "<style scoped>\n",
       "    .dataframe tbody tr th:only-of-type {\n",
       "        vertical-align: middle;\n",
       "    }\n",
       "\n",
       "    .dataframe tbody tr th {\n",
       "        vertical-align: top;\n",
       "    }\n",
       "\n",
       "    .dataframe thead th {\n",
       "        text-align: right;\n",
       "    }\n",
       "</style>\n",
       "<table border=\"1\" class=\"dataframe\">\n",
       "  <thead>\n",
       "    <tr style=\"text-align: right;\">\n",
       "      <th></th>\n",
       "      <th>base_salary</th>\n",
       "    </tr>\n",
       "    <tr>\n",
       "      <th>agency_name</th>\n",
       "      <th></th>\n",
       "    </tr>\n",
       "  </thead>\n",
       "  <tbody>\n",
       "    <tr>\n",
       "      <th>DEPT OF ED PARA PROFESSIONALS</th>\n",
       "      <td>38790.166667</td>\n",
       "    </tr>\n",
       "    <tr>\n",
       "      <th>DEPT OF ENVIRONMENT PROTECTION</th>\n",
       "      <td>43142.000000</td>\n",
       "    </tr>\n",
       "    <tr>\n",
       "      <th>HRA/DEPT OF SOCIAL SERVICES</th>\n",
       "      <td>48195.750000</td>\n",
       "    </tr>\n",
       "    <tr>\n",
       "      <th>LAW DEPARTMENT</th>\n",
       "      <td>49677.000000</td>\n",
       "    </tr>\n",
       "    <tr>\n",
       "      <th>NYC HOUSING AUTHORITY</th>\n",
       "      <td>58942.000000</td>\n",
       "    </tr>\n",
       "  </tbody>\n",
       "</table>\n",
       "</div>"
      ],
      "text/plain": [
       "                                 base_salary\n",
       "agency_name                                 \n",
       "DEPT OF ED PARA PROFESSIONALS   38790.166667\n",
       "DEPT OF ENVIRONMENT PROTECTION  43142.000000\n",
       "HRA/DEPT OF SOCIAL SERVICES     48195.750000\n",
       "LAW DEPARTMENT                  49677.000000\n",
       "NYC HOUSING AUTHORITY           58942.000000"
      ]
     },
     "execution_count": 20,
     "metadata": {},
     "output_type": "execute_result"
    }
   ],
   "source": [
    "df1_q1b.head()"
   ]
  },
  {
   "cell_type": "code",
   "execution_count": 21,
   "id": "eb99d6b8",
   "metadata": {},
   "outputs": [
    {
     "data": {
      "text/plain": [
       "<AxesSubplot:ylabel='agency_name'>"
      ]
     },
     "execution_count": 21,
     "metadata": {},
     "output_type": "execute_result"
    },
    {
     "data": {
      "image/png": "[encoded data removed]",
      "text/plain": [
       "<Figure size 936x576 with 1 Axes>"
      ]
     },
     "metadata": {
      "needs_background": "light"
     },
     "output_type": "display_data"
    }
   ],
   "source": [
    "df1_q1b.plot(kind = 'barh', figsize=(13,8))\n",
    "# We would want to work atthe Office of the Controller"
   ]
  },
  {
   "cell_type": "code",
   "execution_count": 39,
   "id": "3229d29e",
   "metadata": {
    "scrolled": true
   },
   "outputs": [
    {
     "data": {
      "text/html": [
       "<div>\n",
       "<style scoped>\n",
       "    .dataframe tbody tr th:only-of-type {\n",
       "        vertical-align: middle;\n",
       "    }\n",
       "\n",
       "    .dataframe tbody tr th {\n",
       "        vertical-align: top;\n",
       "    }\n",
       "\n",
       "    .dataframe thead th {\n",
       "        text-align: right;\n",
       "    }\n",
       "</style>\n",
       "<table border=\"1\" class=\"dataframe\">\n",
       "  <thead>\n",
       "    <tr style=\"text-align: right;\">\n",
       "      <th></th>\n",
       "      <th>fiscal_year</th>\n",
       "      <th>payroll_number</th>\n",
       "      <th>agency_name</th>\n",
       "      <th>last_name</th>\n",
       "      <th>first_name</th>\n",
       "      <th>mid_init</th>\n",
       "      <th>agency_start_date</th>\n",
       "      <th>work_location_borough</th>\n",
       "      <th>title_description</th>\n",
       "      <th>leave_status_as_of_june_30</th>\n",
       "      <th>base_salary</th>\n",
       "      <th>pay_basis</th>\n",
       "      <th>regular_hours</th>\n",
       "      <th>regular_gross_paid</th>\n",
       "      <th>ot_hours</th>\n",
       "      <th>total_ot_paid</th>\n",
       "      <th>total_other_pay</th>\n",
       "    </tr>\n",
       "  </thead>\n",
       "  <tbody>\n",
       "    <tr>\n",
       "      <th>0</th>\n",
       "      <td>2019</td>\n",
       "      <td>56.0</td>\n",
       "      <td>POLICE DEPARTMENT</td>\n",
       "      <td>GUZMAN</td>\n",
       "      <td>ALBERTO</td>\n",
       "      <td>NaN</td>\n",
       "      <td>2017-07-05</td>\n",
       "      <td>BRONX</td>\n",
       "      <td>POLICE OFFICER</td>\n",
       "      <td>ACTIVE</td>\n",
       "      <td>45000.0</td>\n",
       "      <td>per Annum</td>\n",
       "      <td>2040.00</td>\n",
       "      <td>43541.17</td>\n",
       "      <td>243.83</td>\n",
       "      <td>8597.10</td>\n",
       "      <td>3710.14</td>\n",
       "    </tr>\n",
       "    <tr>\n",
       "      <th>1</th>\n",
       "      <td>2015</td>\n",
       "      <td>NaN</td>\n",
       "      <td>POLICE DEPARTMENT</td>\n",
       "      <td>DERASMO</td>\n",
       "      <td>MARIELENA</td>\n",
       "      <td>NaN</td>\n",
       "      <td>2010-07-06</td>\n",
       "      <td>BRONX</td>\n",
       "      <td>POLICE OFFICER</td>\n",
       "      <td>ACTIVE</td>\n",
       "      <td>56609.0</td>\n",
       "      <td>per Annum</td>\n",
       "      <td>2085.72</td>\n",
       "      <td>54578.49</td>\n",
       "      <td>335.83</td>\n",
       "      <td>13344.33</td>\n",
       "      <td>4387.03</td>\n",
       "    </tr>\n",
       "    <tr>\n",
       "      <th>2</th>\n",
       "      <td>2018</td>\n",
       "      <td>56.0</td>\n",
       "      <td>POLICE DEPARTMENT</td>\n",
       "      <td>GARCES</td>\n",
       "      <td>MICHAEL</td>\n",
       "      <td>A</td>\n",
       "      <td>2013-01-09</td>\n",
       "      <td>BRONX</td>\n",
       "      <td>POLICE OFFICER</td>\n",
       "      <td>ACTIVE</td>\n",
       "      <td>63125.0</td>\n",
       "      <td>per Annum</td>\n",
       "      <td>2045.72</td>\n",
       "      <td>62809.14</td>\n",
       "      <td>145.00</td>\n",
       "      <td>7349.27</td>\n",
       "      <td>9801.34</td>\n",
       "    </tr>\n",
       "    <tr>\n",
       "      <th>3</th>\n",
       "      <td>2017</td>\n",
       "      <td>NaN</td>\n",
       "      <td>POLICE DEPARTMENT</td>\n",
       "      <td>ROSSI</td>\n",
       "      <td>THOMAS</td>\n",
       "      <td>C</td>\n",
       "      <td>2016-01-06</td>\n",
       "      <td>BRONX</td>\n",
       "      <td>POLICE OFFICER</td>\n",
       "      <td>ACTIVE</td>\n",
       "      <td>46805.0</td>\n",
       "      <td>per Annum</td>\n",
       "      <td>2051.43</td>\n",
       "      <td>49411.14</td>\n",
       "      <td>121.00</td>\n",
       "      <td>4213.27</td>\n",
       "      <td>6490.72</td>\n",
       "    </tr>\n",
       "    <tr>\n",
       "      <th>4</th>\n",
       "      <td>2019</td>\n",
       "      <td>56.0</td>\n",
       "      <td>POLICE DEPARTMENT</td>\n",
       "      <td>GARRETT</td>\n",
       "      <td>DENISE</td>\n",
       "      <td>NaN</td>\n",
       "      <td>2001-05-30</td>\n",
       "      <td>BRONX</td>\n",
       "      <td>SCHOOL SAFETY AGENT</td>\n",
       "      <td>ACTIVE</td>\n",
       "      <td>46737.0</td>\n",
       "      <td>per Annum</td>\n",
       "      <td>2040.00</td>\n",
       "      <td>46608.91</td>\n",
       "      <td>0.00</td>\n",
       "      <td>0.00</td>\n",
       "      <td>1202.56</td>\n",
       "    </tr>\n",
       "  </tbody>\n",
       "</table>\n",
       "</div>"
      ],
      "text/plain": [
       "   fiscal_year  payroll_number        agency_name last_name first_name  \\\n",
       "0         2019            56.0  POLICE DEPARTMENT    GUZMAN    ALBERTO   \n",
       "1         2015             NaN  POLICE DEPARTMENT   DERASMO  MARIELENA   \n",
       "2         2018            56.0  POLICE DEPARTMENT    GARCES    MICHAEL   \n",
       "3         2017             NaN  POLICE DEPARTMENT     ROSSI     THOMAS   \n",
       "4         2019            56.0  POLICE DEPARTMENT   GARRETT     DENISE   \n",
       "\n",
       "  mid_init agency_start_date work_location_borough    title_description  \\\n",
       "0      NaN        2017-07-05                 BRONX       POLICE OFFICER   \n",
       "1      NaN        2010-07-06                 BRONX       POLICE OFFICER   \n",
       "2        A        2013-01-09                 BRONX       POLICE OFFICER   \n",
       "3        C        2016-01-06                 BRONX       POLICE OFFICER   \n",
       "4      NaN        2001-05-30                 BRONX  SCHOOL SAFETY AGENT   \n",
       "\n",
       "  leave_status_as_of_june_30  base_salary  pay_basis  regular_hours  \\\n",
       "0                     ACTIVE      45000.0  per Annum        2040.00   \n",
       "1                     ACTIVE      56609.0  per Annum        2085.72   \n",
       "2                     ACTIVE      63125.0  per Annum        2045.72   \n",
       "3                     ACTIVE      46805.0  per Annum        2051.43   \n",
       "4                     ACTIVE      46737.0  per Annum        2040.00   \n",
       "\n",
       "   regular_gross_paid  ot_hours  total_ot_paid  total_other_pay  \n",
       "0            43541.17    243.83        8597.10          3710.14  \n",
       "1            54578.49    335.83       13344.33          4387.03  \n",
       "2            62809.14    145.00        7349.27          9801.34  \n",
       "3            49411.14    121.00        4213.27          6490.72  \n",
       "4            46608.91      0.00           0.00          1202.56  "
      ]
     },
     "execution_count": 39,
     "metadata": {},
     "output_type": "execute_result"
    }
   ],
   "source": [
    "df2 = pd.read_excel('BX-Police.xlsx')\n",
    "df2.head()"
   ]
  },
  {
   "cell_type": "code",
   "execution_count": 40,
   "id": "3ba0206d",
   "metadata": {},
   "outputs": [
    {
     "data": {
      "text/html": [
       "<div>\n",
       "<style scoped>\n",
       "    .dataframe tbody tr th:only-of-type {\n",
       "        vertical-align: middle;\n",
       "    }\n",
       "\n",
       "    .dataframe tbody tr th {\n",
       "        vertical-align: top;\n",
       "    }\n",
       "\n",
       "    .dataframe thead th {\n",
       "        text-align: right;\n",
       "    }\n",
       "</style>\n",
       "<table border=\"1\" class=\"dataframe\">\n",
       "  <thead>\n",
       "    <tr style=\"text-align: right;\">\n",
       "      <th></th>\n",
       "      <th>fiscal_year</th>\n",
       "      <th>base_salary</th>\n",
       "    </tr>\n",
       "  </thead>\n",
       "  <tbody>\n",
       "    <tr>\n",
       "      <th>0</th>\n",
       "      <td>2019</td>\n",
       "      <td>45000.0</td>\n",
       "    </tr>\n",
       "    <tr>\n",
       "      <th>1</th>\n",
       "      <td>2015</td>\n",
       "      <td>56609.0</td>\n",
       "    </tr>\n",
       "    <tr>\n",
       "      <th>2</th>\n",
       "      <td>2018</td>\n",
       "      <td>63125.0</td>\n",
       "    </tr>\n",
       "    <tr>\n",
       "      <th>3</th>\n",
       "      <td>2017</td>\n",
       "      <td>46805.0</td>\n",
       "    </tr>\n",
       "    <tr>\n",
       "      <th>4</th>\n",
       "      <td>2019</td>\n",
       "      <td>46737.0</td>\n",
       "    </tr>\n",
       "  </tbody>\n",
       "</table>\n",
       "</div>"
      ],
      "text/plain": [
       "   fiscal_year  base_salary\n",
       "0         2019      45000.0\n",
       "1         2015      56609.0\n",
       "2         2018      63125.0\n",
       "3         2017      46805.0\n",
       "4         2019      46737.0"
      ]
     },
     "execution_count": 40,
     "metadata": {},
     "output_type": "execute_result"
    }
   ],
   "source": [
    "df2_q1 = df2[['fiscal_year','base_salary']]\n",
    "df2_q1.head()"
   ]
  },
  {
   "cell_type": "code",
   "execution_count": 41,
   "id": "f7abd487",
   "metadata": {
    "scrolled": true
   },
   "outputs": [
    {
     "data": {
      "text/html": [
       "<div>\n",
       "<style scoped>\n",
       "    .dataframe tbody tr th:only-of-type {\n",
       "        vertical-align: middle;\n",
       "    }\n",
       "\n",
       "    .dataframe tbody tr th {\n",
       "        vertical-align: top;\n",
       "    }\n",
       "\n",
       "    .dataframe thead th {\n",
       "        text-align: right;\n",
       "    }\n",
       "</style>\n",
       "<table border=\"1\" class=\"dataframe\">\n",
       "  <thead>\n",
       "    <tr style=\"text-align: right;\">\n",
       "      <th></th>\n",
       "      <th>base_salary</th>\n",
       "    </tr>\n",
       "    <tr>\n",
       "      <th>fiscal_year</th>\n",
       "      <th></th>\n",
       "    </tr>\n",
       "  </thead>\n",
       "  <tbody>\n",
       "    <tr>\n",
       "      <th>2015</th>\n",
       "      <td>61299.402898</td>\n",
       "    </tr>\n",
       "    <tr>\n",
       "      <th>2016</th>\n",
       "      <td>61601.310642</td>\n",
       "    </tr>\n",
       "    <tr>\n",
       "      <th>2017</th>\n",
       "      <td>65231.981895</td>\n",
       "    </tr>\n",
       "    <tr>\n",
       "      <th>2018</th>\n",
       "      <td>65147.201387</td>\n",
       "    </tr>\n",
       "    <tr>\n",
       "      <th>2019</th>\n",
       "      <td>64427.547047</td>\n",
       "    </tr>\n",
       "  </tbody>\n",
       "</table>\n",
       "</div>"
      ],
      "text/plain": [
       "              base_salary\n",
       "fiscal_year              \n",
       "2015         61299.402898\n",
       "2016         61601.310642\n",
       "2017         65231.981895\n",
       "2018         65147.201387\n",
       "2019         64427.547047"
      ]
     },
     "execution_count": 41,
     "metadata": {},
     "output_type": "execute_result"
    }
   ],
   "source": [
    "df2_q1 = df2_q1.groupby('fiscal_year')\n",
    "df2_q1 = df2_q1.mean()\n",
    "# df2_q1 = df2_q1.median() gives more realistic results\n",
    "df2_q1.head()"
   ]
  },
  {
   "cell_type": "code",
   "execution_count": 42,
   "id": "f5478dbc",
   "metadata": {},
   "outputs": [
    {
     "data": {
      "text/plain": [
       "<AxesSubplot:xlabel='fiscal_year', ylabel='base_salary'>"
      ]
     },
     "execution_count": 42,
     "metadata": {},
     "output_type": "execute_result"
    },
    {
     "data": {
      "image/png": "[encoded data removed]",
      "text/plain": [
       "<Figure size 432x288 with 1 Axes>"
      ]
     },
     "metadata": {
      "needs_background": "light"
     },
     "output_type": "display_data"
    }
   ],
   "source": [
    "sns.lineplot(data=df2_q1, x='fiscal_year', y = 'base_salary')"
   ]
  },
  {
   "cell_type": "code",
   "execution_count": 43,
   "id": "a079c05a",
   "metadata": {},
   "outputs": [],
   "source": [
    "# This trend shows that salaries for BX-Police have been increasing.\n"
   ]
  },
  {
   "cell_type": "code",
   "execution_count": 44,
   "id": "fca28ae0",
   "metadata": {},
   "outputs": [
    {
     "data": {
      "text/html": [
       "<div>\n",
       "<style scoped>\n",
       "    .dataframe tbody tr th:only-of-type {\n",
       "        vertical-align: middle;\n",
       "    }\n",
       "\n",
       "    .dataframe tbody tr th {\n",
       "        vertical-align: top;\n",
       "    }\n",
       "\n",
       "    .dataframe thead th {\n",
       "        text-align: right;\n",
       "    }\n",
       "</style>\n",
       "<table border=\"1\" class=\"dataframe\">\n",
       "  <thead>\n",
       "    <tr style=\"text-align: right;\">\n",
       "      <th></th>\n",
       "      <th>sepal_length</th>\n",
       "      <th>sepal_width</th>\n",
       "      <th>petal_length</th>\n",
       "      <th>petal_width</th>\n",
       "      <th>class</th>\n",
       "    </tr>\n",
       "  </thead>\n",
       "  <tbody>\n",
       "    <tr>\n",
       "      <th>0</th>\n",
       "      <td>5.1</td>\n",
       "      <td>3.5</td>\n",
       "      <td>1.4</td>\n",
       "      <td>0.2</td>\n",
       "      <td>Iris-setosa</td>\n",
       "    </tr>\n",
       "    <tr>\n",
       "      <th>1</th>\n",
       "      <td>4.9</td>\n",
       "      <td>3.0</td>\n",
       "      <td>1.4</td>\n",
       "      <td>0.2</td>\n",
       "      <td>Iris-setosa</td>\n",
       "    </tr>\n",
       "    <tr>\n",
       "      <th>2</th>\n",
       "      <td>4.7</td>\n",
       "      <td>3.2</td>\n",
       "      <td>1.3</td>\n",
       "      <td>0.2</td>\n",
       "      <td>Iris-setosa</td>\n",
       "    </tr>\n",
       "    <tr>\n",
       "      <th>3</th>\n",
       "      <td>4.6</td>\n",
       "      <td>3.1</td>\n",
       "      <td>1.5</td>\n",
       "      <td>0.2</td>\n",
       "      <td>Iris-setosa</td>\n",
       "    </tr>\n",
       "    <tr>\n",
       "      <th>4</th>\n",
       "      <td>5.0</td>\n",
       "      <td>3.6</td>\n",
       "      <td>1.4</td>\n",
       "      <td>0.2</td>\n",
       "      <td>Iris-setosa</td>\n",
       "    </tr>\n",
       "  </tbody>\n",
       "</table>\n",
       "</div>"
      ],
      "text/plain": [
       "   sepal_length  sepal_width  petal_length  petal_width        class\n",
       "0           5.1          3.5           1.4          0.2  Iris-setosa\n",
       "1           4.9          3.0           1.4          0.2  Iris-setosa\n",
       "2           4.7          3.2           1.3          0.2  Iris-setosa\n",
       "3           4.6          3.1           1.5          0.2  Iris-setosa\n",
       "4           5.0          3.6           1.4          0.2  Iris-setosa"
      ]
     },
     "execution_count": 44,
     "metadata": {},
     "output_type": "execute_result"
    }
   ],
   "source": [
    "df3 = pd.read_excel('Iris.xlsx')\n",
    "df3.head()"
   ]
  },
  {
   "cell_type": "code",
   "execution_count": 45,
   "id": "36d7aba8",
   "metadata": {},
   "outputs": [
    {
     "data": {
      "text/plain": [
       "<AxesSubplot:xlabel='petal_length', ylabel='petal_width'>"
      ]
     },
     "execution_count": 45,
     "metadata": {},
     "output_type": "execute_result"
    },
    {
     "data": {
      "image/png": "[encoded data removed]",
      "text/plain": [
       "<Figure size 432x288 with 1 Axes>"
      ]
     },
     "metadata": {
      "needs_background": "light"
     },
     "output_type": "display_data"
    }
   ],
   "source": [
    "sns.scatterplot(data = df3, x = 'petal_length', y = 'petal_width', hue = 'class')"
   ]
  },
  {
   "cell_type": "code",
   "execution_count": 47,
   "id": "37826b49",
   "metadata": {},
   "outputs": [
    {
     "name": "stdout",
     "output_type": "stream",
     "text": [
      "This tells us that each class has bigger or smaller pedal widths and petal lengths. As petal length gets larger so does pedal width\n"
     ]
    }
   ],
   "source": [
    "print('This tells us that each class has bigger or smaller pedal widths and petal lengths. As petal length gets larger so does pedal width')"
   ]
  },
  {
   "cell_type": "code",
   "execution_count": 48,
   "id": "d4ff5b6a",
   "metadata": {},
   "outputs": [],
   "source": [
    "df4 = pd.read_excel('Sales.xlsx')"
   ]
  },
  {
   "cell_type": "code",
   "execution_count": 49,
   "id": "e600a204",
   "metadata": {},
   "outputs": [
    {
     "data": {
      "text/html": [
       "<div>\n",
       "<style scoped>\n",
       "    .dataframe tbody tr th:only-of-type {\n",
       "        vertical-align: middle;\n",
       "    }\n",
       "\n",
       "    .dataframe tbody tr th {\n",
       "        vertical-align: top;\n",
       "    }\n",
       "\n",
       "    .dataframe thead th {\n",
       "        text-align: right;\n",
       "    }\n",
       "</style>\n",
       "<table border=\"1\" class=\"dataframe\">\n",
       "  <thead>\n",
       "    <tr style=\"text-align: right;\">\n",
       "      <th></th>\n",
       "      <th>month_number</th>\n",
       "      <th>facecream</th>\n",
       "      <th>facewash</th>\n",
       "      <th>toothpaste</th>\n",
       "      <th>bathingsoap</th>\n",
       "      <th>shampoo</th>\n",
       "      <th>moisturizer</th>\n",
       "    </tr>\n",
       "  </thead>\n",
       "  <tbody>\n",
       "    <tr>\n",
       "      <th>0</th>\n",
       "      <td>1</td>\n",
       "      <td>2500</td>\n",
       "      <td>1500</td>\n",
       "      <td>5200</td>\n",
       "      <td>9200</td>\n",
       "      <td>1200</td>\n",
       "      <td>1500</td>\n",
       "    </tr>\n",
       "    <tr>\n",
       "      <th>1</th>\n",
       "      <td>2</td>\n",
       "      <td>2630</td>\n",
       "      <td>1200</td>\n",
       "      <td>5100</td>\n",
       "      <td>6100</td>\n",
       "      <td>2100</td>\n",
       "      <td>1200</td>\n",
       "    </tr>\n",
       "    <tr>\n",
       "      <th>2</th>\n",
       "      <td>3</td>\n",
       "      <td>2140</td>\n",
       "      <td>1340</td>\n",
       "      <td>4550</td>\n",
       "      <td>9550</td>\n",
       "      <td>3550</td>\n",
       "      <td>1340</td>\n",
       "    </tr>\n",
       "    <tr>\n",
       "      <th>3</th>\n",
       "      <td>4</td>\n",
       "      <td>3400</td>\n",
       "      <td>1130</td>\n",
       "      <td>5870</td>\n",
       "      <td>8870</td>\n",
       "      <td>1870</td>\n",
       "      <td>1130</td>\n",
       "    </tr>\n",
       "    <tr>\n",
       "      <th>4</th>\n",
       "      <td>5</td>\n",
       "      <td>3600</td>\n",
       "      <td>1740</td>\n",
       "      <td>4560</td>\n",
       "      <td>7760</td>\n",
       "      <td>1560</td>\n",
       "      <td>1740</td>\n",
       "    </tr>\n",
       "  </tbody>\n",
       "</table>\n",
       "</div>"
      ],
      "text/plain": [
       "   month_number  facecream  facewash  toothpaste  bathingsoap  shampoo  \\\n",
       "0             1       2500      1500        5200         9200     1200   \n",
       "1             2       2630      1200        5100         6100     2100   \n",
       "2             3       2140      1340        4550         9550     3550   \n",
       "3             4       3400      1130        5870         8870     1870   \n",
       "4             5       3600      1740        4560         7760     1560   \n",
       "\n",
       "   moisturizer  \n",
       "0         1500  \n",
       "1         1200  \n",
       "2         1340  \n",
       "3         1130  \n",
       "4         1740  "
      ]
     },
     "execution_count": 49,
     "metadata": {},
     "output_type": "execute_result"
    }
   ],
   "source": [
    "df4.head()"
   ]
  },
  {
   "cell_type": "code",
   "execution_count": 53,
   "id": "3ee279d2",
   "metadata": {},
   "outputs": [
    {
     "data": {
      "text/plain": [
       "<AxesSubplot:xlabel='month_number', ylabel='facecream'>"
      ]
     },
     "execution_count": 53,
     "metadata": {},
     "output_type": "execute_result"
    },
    {
     "data": {
      "image/png": "[encoded data removed]",
      "text/plain": [
       "<Figure size 432x288 with 1 Axes>"
      ]
     },
     "metadata": {
      "needs_background": "light"
     },
     "output_type": "display_data"
    }
   ],
   "source": [
    "sns.lineplot(x=df4['month_number'], y=df4['facecream'])\n",
    "sns.lineplot(x=df4['month_number'], y=df4['facewash'])\n",
    "sns.lineplot(x=df4['month_number'], y=df4['toothpaste'])\n",
    "sns.lineplot(x=df4['month_number'], y=df4['bathingsoap'])\n",
    "sns.lineplot(x=df4['month_number'], y=df4['shampoo'])\n",
    "sns.lineplot(x=df4['month_number'], y=df4['moisturizer'])"
   ]
  },
  {
   "cell_type": "code",
   "execution_count": 54,
   "id": "61a56a37",
   "metadata": {},
   "outputs": [
    {
     "name": "stdout",
     "output_type": "stream",
     "text": [
      "They should push more bathing soap and toothpaste but they should stop selling shampoo and moisturizer\n"
     ]
    }
   ],
   "source": [
    "print(\"They should push more bathing soap and toothpaste but they should stop selling shampoo and moisturizer\")"
   ]
  },
  {
   "cell_type": "code",
   "execution_count": 55,
   "id": "ef6826a0",
   "metadata": {},
   "outputs": [],
   "source": [
    "total_sales = df4['facecream'].sum() + df4['facewash'].sum() + df4['toothpaste'].sum() + df4['bathingsoap'].sum() + df4['shampoo'].sum() + df4['moisturizer'].sum()"
   ]
  },
  {
   "cell_type": "code",
   "execution_count": 56,
   "id": "9faff679",
   "metadata": {},
   "outputs": [
    {
     "name": "stdout",
     "output_type": "stream",
     "text": [
      "280840\n"
     ]
    }
   ],
   "source": [
    "print(total_sales)"
   ]
  },
  {
   "cell_type": "code",
   "execution_count": 61,
   "id": "4f120125",
   "metadata": {},
   "outputs": [
    {
     "name": "stdout",
     "output_type": "stream",
     "text": [
      "Total percentage of sales facecream makes up is:  12.277453354223045\n",
      "Total percentage of sales facewash makes up is:  6.592721834496511\n",
      "Total percentage of sales toothpaste makes up is:  24.893177610027063\n",
      "Total percentage of sales bathingsoap makes up is:  40.596068936048994\n",
      "Total percentage of sales shampoo makes up is:  9.047856430707876\n",
      "Total percentage of sales moisturizer makes up is:  6.592721834496511\n"
     ]
    }
   ],
   "source": [
    "print(\"Total percentage of sales facecream makes up is: \", (df4['facecream'].sum() / total_sales) * 100)\n",
    "print(\"Total percentage of sales facewash makes up is: \", (df4['facewash'].sum() / total_sales) * 100)\n",
    "print(\"Total percentage of sales toothpaste makes up is: \", (df4['toothpaste'].sum() / total_sales) * 100)\n",
    "print(\"Total percentage of sales bathingsoap makes up is: \", (df4['bathingsoap'].sum() / total_sales) * 100)\n",
    "print(\"Total percentage of sales shampoo makes up is: \", (df4['shampoo'].sum() / total_sales) * 100)\n",
    "print(\"Total percentage of sales moisturizer makes up is: \", (df4['moisturizer'].sum() / total_sales) * 100)"
   ]
  },
  {
   "cell_type": "code",
   "execution_count": null,
   "id": "e586386f",
   "metadata": {},
   "outputs": [],
   "source": []
  }
 ],
 "metadata": {
  "kernelspec": {
   "display_name": "Python 3 (ipykernel)",
   "language": "python",
   "name": "python3"
  },
  "language_info": {
   "codemirror_mode": {
    "name": "ipython",
    "version": 3
   },
   "file_extension": ".py",
   "mimetype": "text/x-python",
   "name": "python",
   "nbconvert_exporter": "python",
   "pygments_lexer": "ipython3",
   "version": "3.9.12"
  }
 },
 "nbformat": 4,
 "nbformat_minor": 5
}
